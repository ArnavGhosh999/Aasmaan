{
  "nbformat": 4,
  "nbformat_minor": 0,
  "metadata": {
    "colab": {
      "provenance": [],
      "machine_shape": "hm",
      "gpuType": "T4",
      "authorship_tag": "ABX9TyP1Yyjnn49LXgyXU8sy9P8K"
    },
    "kernelspec": {
      "name": "python3",
      "display_name": "Python 3"
    },
    "language_info": {
      "name": "python"
    },
    "accelerator": "GPU"
  },
  "cells": [
    {
      "cell_type": "code",
      "execution_count": 1,
      "metadata": {
        "id": "WfegsD8xWOov",
        "colab": {
          "base_uri": "https://localhost:8080/"
        },
        "outputId": "eeb84cf9-cd1e-400b-b434-c13feabb19cf"
      },
      "outputs": [
        {
          "output_type": "stream",
          "name": "stdout",
          "text": [
            "Mounted at /content/drive\n"
          ]
        }
      ],
      "source": [
        "from google.colab import drive\n",
        "drive.mount('/content/drive')"
      ]
    },
    {
      "cell_type": "code",
      "source": [
        "import os\n",
        "import numpy as np\n",
        "import tensorflow as tf\n",
        "from tensorflow.keras.preprocessing.image import ImageDataGenerator\n",
        "from tensorflow.keras.layers import DepthwiseConv2D, Conv2D, BatchNormalization, ReLU, GlobalAveragePooling2D, Dense, Dropout, Input\n",
        "from tensorflow.keras.models import Model\n",
        "from tensorflow.keras.applications import InceptionV3\n",
        "from tensorflow.keras.callbacks import ReduceLROnPlateau\n",
        "from sklearn.utils import class_weight\n",
        "from collections import Counter\n"
      ],
      "metadata": {
        "id": "UwhD9bZUvl1T"
      },
      "execution_count": 21,
      "outputs": []
    },
    {
      "cell_type": "code",
      "source": [
        "data_dir = '/content/drive/MyDrive/UCMerced_LandUse/UCMerced_LandUse/Images_converted'\n",
        "img_height, img_width = 224, 224\n",
        "batch_size = 32\n",
        "\n",
        "datagen = ImageDataGenerator(\n",
        "    rescale=1./255,\n",
        "    rotation_range=20,\n",
        "    width_shift_range=0.2,\n",
        "    height_shift_range=0.2,\n",
        "    shear_range=0.2,\n",
        "    zoom_range=0.2,\n",
        "    horizontal_flip=True,\n",
        "    fill_mode='nearest',\n",
        "    validation_split=0.2)"
      ],
      "metadata": {
        "id": "xklTFY9Tvl0o"
      },
      "execution_count": 22,
      "outputs": []
    },
    {
      "cell_type": "code",
      "source": [
        "train_generator = datagen.flow_from_directory(\n",
        "    data_dir,\n",
        "    target_size=(img_height, img_width),\n",
        "    batch_size=batch_size,\n",
        "    class_mode='categorical',\n",
        "    subset='training')\n",
        "\n",
        "validation_generator = datagen.flow_from_directory(\n",
        "    data_dir,\n",
        "    target_size=(img_height, img_width),\n",
        "    batch_size=batch_size,\n",
        "    class_mode='categorical',\n",
        "    subset='validation')"
      ],
      "metadata": {
        "colab": {
          "base_uri": "https://localhost:8080/"
        },
        "id": "BqxRs4h1vlzc",
        "outputId": "ff23aca3-5b33-4f6f-bd15-b9aa6140e22d"
      },
      "execution_count": 23,
      "outputs": [
        {
          "output_type": "stream",
          "name": "stdout",
          "text": [
            "Found 1680 images belonging to 21 classes.\n",
            "Found 420 images belonging to 21 classes.\n"
          ]
        }
      ]
    },
    {
      "cell_type": "code",
      "source": [
        "counter = Counter(train_generator.classes)\n",
        "total = sum(counter.values())\n",
        "class_weights_dict = {cls: total/(len(counter) * count) for cls, count in counter.items()}"
      ],
      "metadata": {
        "id": "JKWZtdYrvluh"
      },
      "execution_count": 24,
      "outputs": []
    },
    {
      "cell_type": "code",
      "source": [
        "def build_googlenet_with_dwsc(input_shape, num_classes):\n",
        "    base_model = InceptionV3(include_top=False, weights='imagenet', input_shape=input_shape)\n",
        "    for layer in base_model.layers:\n",
        "        layer.trainable = False\n",
        "\n",
        "    x = base_model.output\n",
        "    x = DepthwiseConv2D(kernel_size=3, padding='same')(x)\n",
        "    x = BatchNormalization()(x)\n",
        "    x = ReLU()(x)\n",
        "    x = GlobalAveragePooling2D()(x)\n",
        "    x = Dropout(0.5)(x)\n",
        "    outputs = Dense(num_classes, activation='softmax')(x)\n",
        "\n",
        "    model = Model(inputs=base_model.input, outputs=outputs)\n",
        "    return model\n",
        "\n",
        "input_shape = (img_height, img_width, 3)\n",
        "num_classes = train_generator.num_classes\n",
        "model = build_googlenet_with_dwsc(input_shape, num_classes)\n",
        "\n",
        "model.compile(optimizer='adam', loss='categorical_crossentropy', metrics=['accuracy'])\n"
      ],
      "metadata": {
        "colab": {
          "base_uri": "https://localhost:8080/"
        },
        "id": "9uHQaG_Hvlmt",
        "outputId": "d8146349-139e-4569-b68c-f58f41c5998d"
      },
      "execution_count": 25,
      "outputs": [
        {
          "output_type": "stream",
          "name": "stdout",
          "text": [
            "Downloading data from https://storage.googleapis.com/tensorflow/keras-applications/inception_v3/inception_v3_weights_tf_dim_ordering_tf_kernels_notop.h5\n",
            "\u001b[1m87910968/87910968\u001b[0m \u001b[32m━━━━━━━━━━━━━━━━━━━━\u001b[0m\u001b[37m\u001b[0m \u001b[1m5s\u001b[0m 0us/step\n"
          ]
        }
      ]
    },
    {
      "cell_type": "code",
      "source": [
        "reduce_lr = ReduceLROnPlateau(monitor='val_loss', factor=0.2, patience=3, min_lr=1e-6)"
      ],
      "metadata": {
        "id": "eXzDDBRPvlfX"
      },
      "execution_count": 26,
      "outputs": []
    },
    {
      "cell_type": "code",
      "source": [
        "epochs = 35\n",
        "\n",
        "history = model.fit(\n",
        "    train_generator,\n",
        "    validation_data=validation_generator,\n",
        "    epochs=epochs,\n",
        "    class_weight=class_weights_dict,\n",
        "    callbacks=[reduce_lr]\n",
        ")\n"
      ],
      "metadata": {
        "colab": {
          "base_uri": "https://localhost:8080/"
        },
        "id": "7NJajbtBvlXR",
        "outputId": "6bc09af5-6464-4a26-b46c-6f6048325bf2"
      },
      "execution_count": 39,
      "outputs": [
        {
          "output_type": "stream",
          "name": "stdout",
          "text": [
            "Epoch 1/35\n",
            "\u001b[1m53/53\u001b[0m \u001b[32m━━━━━━━━━━━━━━━━━━━━\u001b[0m\u001b[37m\u001b[0m \u001b[1m27s\u001b[0m 463ms/step - accuracy: 0.9340 - loss: 0.2306 - val_accuracy: 0.8548 - val_loss: 0.4395 - learning_rate: 1.0000e-06\n",
            "Epoch 2/35\n",
            "\u001b[1m53/53\u001b[0m \u001b[32m━━━━━━━━━━━━━━━━━━━━\u001b[0m\u001b[37m\u001b[0m \u001b[1m26s\u001b[0m 437ms/step - accuracy: 0.9270 - loss: 0.2261 - val_accuracy: 0.8476 - val_loss: 0.4239 - learning_rate: 1.0000e-06\n",
            "Epoch 3/35\n",
            "\u001b[1m53/53\u001b[0m \u001b[32m━━━━━━━━━━━━━━━━━━━━\u001b[0m\u001b[37m\u001b[0m \u001b[1m27s\u001b[0m 446ms/step - accuracy: 0.9191 - loss: 0.2501 - val_accuracy: 0.8548 - val_loss: 0.4368 - learning_rate: 1.0000e-06\n",
            "Epoch 4/35\n",
            "\u001b[1m53/53\u001b[0m \u001b[32m━━━━━━━━━━━━━━━━━━━━\u001b[0m\u001b[37m\u001b[0m \u001b[1m26s\u001b[0m 442ms/step - accuracy: 0.9094 - loss: 0.2638 - val_accuracy: 0.8500 - val_loss: 0.4007 - learning_rate: 1.0000e-06\n",
            "Epoch 5/35\n",
            "\u001b[1m53/53\u001b[0m \u001b[32m━━━━━━━━━━━━━━━━━━━━\u001b[0m\u001b[37m\u001b[0m \u001b[1m26s\u001b[0m 436ms/step - accuracy: 0.9000 - loss: 0.2707 - val_accuracy: 0.8381 - val_loss: 0.4691 - learning_rate: 1.0000e-06\n",
            "Epoch 6/35\n",
            "\u001b[1m53/53\u001b[0m \u001b[32m━━━━━━━━━━━━━━━━━━━━\u001b[0m\u001b[37m\u001b[0m \u001b[1m26s\u001b[0m 440ms/step - accuracy: 0.9220 - loss: 0.2405 - val_accuracy: 0.8333 - val_loss: 0.4276 - learning_rate: 1.0000e-06\n",
            "Epoch 7/35\n",
            "\u001b[1m53/53\u001b[0m \u001b[32m━━━━━━━━━━━━━━━━━━━━\u001b[0m\u001b[37m\u001b[0m \u001b[1m26s\u001b[0m 439ms/step - accuracy: 0.9229 - loss: 0.2438 - val_accuracy: 0.8595 - val_loss: 0.4508 - learning_rate: 1.0000e-06\n",
            "Epoch 8/35\n",
            "\u001b[1m53/53\u001b[0m \u001b[32m━━━━━━━━━━━━━━━━━━━━\u001b[0m\u001b[37m\u001b[0m \u001b[1m26s\u001b[0m 442ms/step - accuracy: 0.9153 - loss: 0.2429 - val_accuracy: 0.8690 - val_loss: 0.3919 - learning_rate: 1.0000e-06\n",
            "Epoch 9/35\n",
            "\u001b[1m53/53\u001b[0m \u001b[32m━━━━━━━━━━━━━━━━━━━━\u001b[0m\u001b[37m\u001b[0m \u001b[1m26s\u001b[0m 441ms/step - accuracy: 0.9153 - loss: 0.2595 - val_accuracy: 0.8500 - val_loss: 0.4334 - learning_rate: 1.0000e-06\n",
            "Epoch 10/35\n",
            "\u001b[1m53/53\u001b[0m \u001b[32m━━━━━━━━━━━━━━━━━━━━\u001b[0m\u001b[37m\u001b[0m \u001b[1m26s\u001b[0m 436ms/step - accuracy: 0.9138 - loss: 0.2401 - val_accuracy: 0.8690 - val_loss: 0.4056 - learning_rate: 1.0000e-06\n",
            "Epoch 11/35\n",
            "\u001b[1m53/53\u001b[0m \u001b[32m━━━━━━━━━━━━━━━━━━━━\u001b[0m\u001b[37m\u001b[0m \u001b[1m26s\u001b[0m 434ms/step - accuracy: 0.9250 - loss: 0.2345 - val_accuracy: 0.8357 - val_loss: 0.4751 - learning_rate: 1.0000e-06\n",
            "Epoch 12/35\n",
            "\u001b[1m53/53\u001b[0m \u001b[32m━━━━━━━━━━━━━━━━━━━━\u001b[0m\u001b[37m\u001b[0m \u001b[1m26s\u001b[0m 435ms/step - accuracy: 0.9300 - loss: 0.2290 - val_accuracy: 0.8333 - val_loss: 0.4646 - learning_rate: 1.0000e-06\n",
            "Epoch 13/35\n",
            "\u001b[1m53/53\u001b[0m \u001b[32m━━━━━━━━━━━━━━━━━━━━\u001b[0m\u001b[37m\u001b[0m \u001b[1m26s\u001b[0m 444ms/step - accuracy: 0.9111 - loss: 0.2451 - val_accuracy: 0.8524 - val_loss: 0.4623 - learning_rate: 1.0000e-06\n",
            "Epoch 14/35\n",
            "\u001b[1m53/53\u001b[0m \u001b[32m━━━━━━━━━━━━━━━━━━━━\u001b[0m\u001b[37m\u001b[0m \u001b[1m26s\u001b[0m 438ms/step - accuracy: 0.9175 - loss: 0.2621 - val_accuracy: 0.8500 - val_loss: 0.4420 - learning_rate: 1.0000e-06\n",
            "Epoch 15/35\n",
            "\u001b[1m53/53\u001b[0m \u001b[32m━━━━━━━━━━━━━━━━━━━━\u001b[0m\u001b[37m\u001b[0m \u001b[1m26s\u001b[0m 451ms/step - accuracy: 0.9152 - loss: 0.2457 - val_accuracy: 0.8762 - val_loss: 0.3878 - learning_rate: 1.0000e-06\n",
            "Epoch 16/35\n",
            "\u001b[1m53/53\u001b[0m \u001b[32m━━━━━━━━━━━━━━━━━━━━\u001b[0m\u001b[37m\u001b[0m \u001b[1m26s\u001b[0m 441ms/step - accuracy: 0.9117 - loss: 0.2481 - val_accuracy: 0.8476 - val_loss: 0.4451 - learning_rate: 1.0000e-06\n",
            "Epoch 17/35\n",
            "\u001b[1m53/53\u001b[0m \u001b[32m━━━━━━━━━━━━━━━━━━━━\u001b[0m\u001b[37m\u001b[0m \u001b[1m26s\u001b[0m 438ms/step - accuracy: 0.9269 - loss: 0.2418 - val_accuracy: 0.8619 - val_loss: 0.3963 - learning_rate: 1.0000e-06\n",
            "Epoch 18/35\n",
            "\u001b[1m53/53\u001b[0m \u001b[32m━━━━━━━━━━━━━━━━━━━━\u001b[0m\u001b[37m\u001b[0m \u001b[1m26s\u001b[0m 441ms/step - accuracy: 0.9134 - loss: 0.2440 - val_accuracy: 0.8333 - val_loss: 0.4536 - learning_rate: 1.0000e-06\n",
            "Epoch 19/35\n",
            "\u001b[1m53/53\u001b[0m \u001b[32m━━━━━━━━━━━━━━━━━━━━\u001b[0m\u001b[37m\u001b[0m \u001b[1m26s\u001b[0m 438ms/step - accuracy: 0.9121 - loss: 0.2467 - val_accuracy: 0.8619 - val_loss: 0.4467 - learning_rate: 1.0000e-06\n",
            "Epoch 20/35\n",
            "\u001b[1m53/53\u001b[0m \u001b[32m━━━━━━━━━━━━━━━━━━━━\u001b[0m\u001b[37m\u001b[0m \u001b[1m26s\u001b[0m 439ms/step - accuracy: 0.9190 - loss: 0.2507 - val_accuracy: 0.8714 - val_loss: 0.4379 - learning_rate: 1.0000e-06\n",
            "Epoch 21/35\n",
            "\u001b[1m53/53\u001b[0m \u001b[32m━━━━━━━━━━━━━━━━━━━━\u001b[0m\u001b[37m\u001b[0m \u001b[1m26s\u001b[0m 440ms/step - accuracy: 0.9158 - loss: 0.2516 - val_accuracy: 0.8524 - val_loss: 0.4730 - learning_rate: 1.0000e-06\n",
            "Epoch 22/35\n",
            "\u001b[1m53/53\u001b[0m \u001b[32m━━━━━━━━━━━━━━━━━━━━\u001b[0m\u001b[37m\u001b[0m \u001b[1m26s\u001b[0m 444ms/step - accuracy: 0.9261 - loss: 0.2312 - val_accuracy: 0.8381 - val_loss: 0.4494 - learning_rate: 1.0000e-06\n",
            "Epoch 23/35\n",
            "\u001b[1m53/53\u001b[0m \u001b[32m━━━━━━━━━━━━━━━━━━━━\u001b[0m\u001b[37m\u001b[0m \u001b[1m27s\u001b[0m 453ms/step - accuracy: 0.9162 - loss: 0.2506 - val_accuracy: 0.8643 - val_loss: 0.4224 - learning_rate: 1.0000e-06\n",
            "Epoch 24/35\n",
            "\u001b[1m53/53\u001b[0m \u001b[32m━━━━━━━━━━━━━━━━━━━━\u001b[0m\u001b[37m\u001b[0m \u001b[1m27s\u001b[0m 450ms/step - accuracy: 0.9172 - loss: 0.2480 - val_accuracy: 0.8476 - val_loss: 0.4392 - learning_rate: 1.0000e-06\n",
            "Epoch 25/35\n",
            "\u001b[1m53/53\u001b[0m \u001b[32m━━━━━━━━━━━━━━━━━━━━\u001b[0m\u001b[37m\u001b[0m \u001b[1m27s\u001b[0m 450ms/step - accuracy: 0.9236 - loss: 0.2298 - val_accuracy: 0.8357 - val_loss: 0.4509 - learning_rate: 1.0000e-06\n",
            "Epoch 26/35\n",
            "\u001b[1m53/53\u001b[0m \u001b[32m━━━━━━━━━━━━━━━━━━━━\u001b[0m\u001b[37m\u001b[0m \u001b[1m27s\u001b[0m 452ms/step - accuracy: 0.9205 - loss: 0.2328 - val_accuracy: 0.8476 - val_loss: 0.4306 - learning_rate: 1.0000e-06\n",
            "Epoch 27/35\n",
            "\u001b[1m53/53\u001b[0m \u001b[32m━━━━━━━━━━━━━━━━━━━━\u001b[0m\u001b[37m\u001b[0m \u001b[1m27s\u001b[0m 453ms/step - accuracy: 0.9239 - loss: 0.2364 - val_accuracy: 0.8524 - val_loss: 0.4458 - learning_rate: 1.0000e-06\n",
            "Epoch 28/35\n",
            "\u001b[1m53/53\u001b[0m \u001b[32m━━━━━━━━━━━━━━━━━━━━\u001b[0m\u001b[37m\u001b[0m \u001b[1m26s\u001b[0m 447ms/step - accuracy: 0.9293 - loss: 0.2183 - val_accuracy: 0.8595 - val_loss: 0.4026 - learning_rate: 1.0000e-06\n",
            "Epoch 29/35\n",
            "\u001b[1m53/53\u001b[0m \u001b[32m━━━━━━━━━━━━━━━━━━━━\u001b[0m\u001b[37m\u001b[0m \u001b[1m26s\u001b[0m 441ms/step - accuracy: 0.9292 - loss: 0.2263 - val_accuracy: 0.8405 - val_loss: 0.4369 - learning_rate: 1.0000e-06\n",
            "Epoch 30/35\n",
            "\u001b[1m53/53\u001b[0m \u001b[32m━━━━━━━━━━━━━━━━━━━━\u001b[0m\u001b[37m\u001b[0m \u001b[1m26s\u001b[0m 442ms/step - accuracy: 0.9163 - loss: 0.2656 - val_accuracy: 0.8548 - val_loss: 0.4037 - learning_rate: 1.0000e-06\n",
            "Epoch 31/35\n",
            "\u001b[1m53/53\u001b[0m \u001b[32m━━━━━━━━━━━━━━━━━━━━\u001b[0m\u001b[37m\u001b[0m \u001b[1m26s\u001b[0m 441ms/step - accuracy: 0.9357 - loss: 0.2192 - val_accuracy: 0.8476 - val_loss: 0.4680 - learning_rate: 1.0000e-06\n",
            "Epoch 32/35\n",
            "\u001b[1m53/53\u001b[0m \u001b[32m━━━━━━━━━━━━━━━━━━━━\u001b[0m\u001b[37m\u001b[0m \u001b[1m26s\u001b[0m 447ms/step - accuracy: 0.9161 - loss: 0.2394 - val_accuracy: 0.8762 - val_loss: 0.3954 - learning_rate: 1.0000e-06\n",
            "Epoch 33/35\n",
            "\u001b[1m53/53\u001b[0m \u001b[32m━━━━━━━━━━━━━━━━━━━━\u001b[0m\u001b[37m\u001b[0m \u001b[1m26s\u001b[0m 441ms/step - accuracy: 0.9068 - loss: 0.2627 - val_accuracy: 0.8500 - val_loss: 0.4286 - learning_rate: 1.0000e-06\n",
            "Epoch 34/35\n",
            "\u001b[1m53/53\u001b[0m \u001b[32m━━━━━━━━━━━━━━━━━━━━\u001b[0m\u001b[37m\u001b[0m \u001b[1m27s\u001b[0m 452ms/step - accuracy: 0.9138 - loss: 0.2557 - val_accuracy: 0.8667 - val_loss: 0.4331 - learning_rate: 1.0000e-06\n",
            "Epoch 35/35\n",
            "\u001b[1m53/53\u001b[0m \u001b[32m━━━━━━━━━━━━━━━━━━━━\u001b[0m\u001b[37m\u001b[0m \u001b[1m26s\u001b[0m 442ms/step - accuracy: 0.9170 - loss: 0.2389 - val_accuracy: 0.8548 - val_loss: 0.4245 - learning_rate: 1.0000e-06\n"
          ]
        }
      ]
    },
    {
      "cell_type": "code",
      "source": [
        "loss, accuracy = model.evaluate(validation_generator)\n",
        "print(f'Validation Loss: {loss}')\n",
        "print(f'Validation Accuracy: {accuracy}')\n"
      ],
      "metadata": {
        "colab": {
          "base_uri": "https://localhost:8080/"
        },
        "id": "hjvs00kPvlR_",
        "outputId": "7df17af9-c092-4cf5-e3d8-1a27c7668942"
      },
      "execution_count": 40,
      "outputs": [
        {
          "output_type": "stream",
          "name": "stdout",
          "text": [
            "\u001b[1m14/14\u001b[0m \u001b[32m━━━━━━━━━━━━━━━━━━━━\u001b[0m\u001b[37m\u001b[0m \u001b[1m5s\u001b[0m 365ms/step - accuracy: 0.8443 - loss: 0.4563\n",
            "Validation Loss: 0.42566144466400146\n",
            "Validation Accuracy: 0.8571428656578064\n"
          ]
        }
      ]
    },
    {
      "cell_type": "code",
      "source": [
        "import numpy as np\n",
        "import matplotlib.pyplot as plt\n",
        "import seaborn as sns\n",
        "from sklearn.metrics import ConfusionMatrixDisplay\n",
        "\n",
        "plt.show()\n",
        "train_loss, train_accuracy = model.evaluate(train_generator, verbose=1)\n",
        "print(f\"Training Loss: {train_loss}\")\n",
        "print(f\"Training Accuracy: {train_accuracy}\")\n"
      ],
      "metadata": {
        "colab": {
          "base_uri": "https://localhost:8080/"
        },
        "id": "OE0LF7st7j7k",
        "outputId": "ba7308cb-7574-4913-9c33-0e4712587259"
      },
      "execution_count": 44,
      "outputs": [
        {
          "output_type": "stream",
          "name": "stdout",
          "text": [
            "\u001b[1m53/53\u001b[0m \u001b[32m━━━━━━━━━━━━━━━━━━━━\u001b[0m\u001b[37m\u001b[0m \u001b[1m23s\u001b[0m 426ms/step - accuracy: 0.9654 - loss: 0.1228\n",
            "Training Loss: 0.12868759036064148\n",
            "Training Accuracy: 0.9624999761581421\n"
          ]
        }
      ]
    },
    {
      "cell_type": "code",
      "source": [
        "import numpy as np\n",
        "from sklearn.metrics import precision_score, recall_score, f1_score, fbeta_score, cohen_kappa_score, accuracy_score\n",
        "\n",
        "y_pred = model.predict(validation_generator)\n",
        "y_true = validation_generator.classes\n",
        "y_pred_classes = np.argmax(y_pred, axis=1)\n",
        "precision = precision_score(y_true, y_pred_classes, average='weighted')\n",
        "recall = recall_score(y_true, y_pred_classes, average='weighted')\n",
        "f1 = f1_score(y_true, y_pred_classes, average='weighted')\n",
        "f2 = fbeta_score(y_true, y_pred_classes, beta=2, average='weighted')\n",
        "kappa = cohen_kappa_score(y_true, y_pred_classes)\n",
        "oa = accuracy_score(y_true, y_pred_classes)\n",
        "\n",
        "print(f\"Precision: {precision}\")\n",
        "print(f\"Recall: {recall}\")\n",
        "print(f\"F1-score: {f1}\")\n",
        "print(f\"F2-score: {f2}\")\n",
        "print(f\"Kappa: {kappa}\")\n",
        "print(f\"Overall Accuracy (OA): {oa}\")\n"
      ],
      "metadata": {
        "colab": {
          "base_uri": "https://localhost:8080/"
        },
        "id": "CznGuGaeDsd3",
        "outputId": "14aa7173-4a51-4ae0-f429-f8a40dd0ab22"
      },
      "execution_count": 47,
      "outputs": [
        {
          "output_type": "stream",
          "name": "stdout",
          "text": [
            "\u001b[1m14/14\u001b[0m \u001b[32m━━━━━━━━━━━━━━━━━━━━\u001b[0m\u001b[37m\u001b[0m \u001b[1m5s\u001b[0m 365ms/step\n",
            "Precision: 0.024295526915664216\n",
            "Recall: 0.023809523809523808\n",
            "F1-score: 0.023928617152957077\n",
            "F2-score: 0.023828529926940168\n",
            "Kappa: -0.02499999999999991\n",
            "Overall Accuracy (OA): 0.023809523809523808\n"
          ]
        }
      ]
    }
  ]
}